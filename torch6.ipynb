{
 "cells": [
  {
   "cell_type": "code",
   "execution_count": 233,
   "id": "62575c11",
   "metadata": {},
   "outputs": [],
   "source": [
    "import torch\n",
    "import torch.nn as nn\n",
    "import torch.nn.functional as F\n",
    "from torch.utils.data import DataLoader\n",
    "from torchvision import datasets, transforms\n",
    "from torchvision.utils import make_grid\n",
    "\n",
    "import numpy as np\n",
    "import pandas as np\n",
    "from sklearn.metrics import confusion_matrix\n",
    "import matplotlib.pyplot as plt\n",
    "%matplotlib inline"
   ]
  },
  {
   "cell_type": "code",
   "execution_count": 234,
   "id": "2a2ff331",
   "metadata": {},
   "outputs": [],
   "source": [
    "transform = transforms.ToTensor()"
   ]
  },
  {
   "cell_type": "code",
   "execution_count": 235,
   "id": "75cc09af",
   "metadata": {},
   "outputs": [],
   "source": [
    "train_data = datasets.MNIST(root='cnn_data', train=True, download=True, transform=transform)"
   ]
  },
  {
   "cell_type": "code",
   "execution_count": 236,
   "id": "174e825c",
   "metadata": {},
   "outputs": [],
   "source": [
    "test_data  = datasets.MNIST(root='cnn_data', train=False, download=False, transform=transform)"
   ]
  },
  {
   "cell_type": "code",
   "execution_count": 237,
   "id": "1232c4da",
   "metadata": {},
   "outputs": [],
   "source": [
    "train_loader = DataLoader(train_data, batch_size = 10, shuffle = True)\n",
    "test_loader = DataLoader(test_data, batch_size = 10, shuffle = False)"
   ]
  },
  {
   "cell_type": "code",
   "execution_count": 238,
   "id": "80ab2d68",
   "metadata": {},
   "outputs": [],
   "source": [
    "conv1 = nn.Conv2d(1, 6, 3, 1)\n",
    "conv2 = nn.Conv2d(6, 16, 3, 1)"
   ]
  },
  {
   "cell_type": "code",
   "execution_count": 239,
   "id": "a05076a6",
   "metadata": {},
   "outputs": [],
   "source": [
    "for i, (X_train, y_train) in enumerate(train_data):\n",
    "    break"
   ]
  },
  {
   "cell_type": "code",
   "execution_count": 240,
   "id": "fcb86e40",
   "metadata": {},
   "outputs": [
    {
     "data": {
      "text/plain": [
       "torch.Size([1, 28, 28])"
      ]
     },
     "execution_count": 240,
     "metadata": {},
     "output_type": "execute_result"
    }
   ],
   "source": [
    "X_train.shape"
   ]
  },
  {
   "cell_type": "code",
   "execution_count": 241,
   "id": "569a6ecc",
   "metadata": {},
   "outputs": [],
   "source": [
    "x = X_train.view(1,1,28,28)"
   ]
  },
  {
   "cell_type": "code",
   "execution_count": 242,
   "id": "af8e55f7",
   "metadata": {},
   "outputs": [],
   "source": [
    "x = F.relu(conv1(x))"
   ]
  },
  {
   "cell_type": "code",
   "execution_count": 243,
   "id": "47f892c3",
   "metadata": {},
   "outputs": [
    {
     "data": {
      "text/plain": [
       "torch.Size([1, 6, 26, 26])"
      ]
     },
     "execution_count": 243,
     "metadata": {},
     "output_type": "execute_result"
    }
   ],
   "source": [
    "x.shape"
   ]
  },
  {
   "cell_type": "code",
   "execution_count": 244,
   "id": "34964154",
   "metadata": {},
   "outputs": [],
   "source": [
    "x = F.max_pool2d(x,2,2)"
   ]
  },
  {
   "cell_type": "code",
   "execution_count": 245,
   "id": "2670d376",
   "metadata": {},
   "outputs": [
    {
     "data": {
      "text/plain": [
       "torch.Size([1, 6, 13, 13])"
      ]
     },
     "execution_count": 245,
     "metadata": {},
     "output_type": "execute_result"
    }
   ],
   "source": [
    "x.shape"
   ]
  },
  {
   "cell_type": "code",
   "execution_count": 246,
   "id": "9dc7736b",
   "metadata": {},
   "outputs": [],
   "source": [
    "x = F.relu(conv2(x))"
   ]
  },
  {
   "cell_type": "code",
   "execution_count": 247,
   "id": "2e706a15",
   "metadata": {},
   "outputs": [
    {
     "data": {
      "text/plain": [
       "torch.Size([1, 16, 11, 11])"
      ]
     },
     "execution_count": 247,
     "metadata": {},
     "output_type": "execute_result"
    }
   ],
   "source": [
    "x.shape"
   ]
  },
  {
   "cell_type": "code",
   "execution_count": 248,
   "id": "42cc2dc0",
   "metadata": {},
   "outputs": [],
   "source": [
    "x = F.max_pool2d(x,2,2)"
   ]
  },
  {
   "cell_type": "code",
   "execution_count": 249,
   "id": "e2c7c637",
   "metadata": {},
   "outputs": [
    {
     "data": {
      "text/plain": [
       "torch.Size([1, 16, 5, 5])"
      ]
     },
     "execution_count": 249,
     "metadata": {},
     "output_type": "execute_result"
    }
   ],
   "source": [
    "x.shape"
   ]
  },
  {
   "cell_type": "code",
   "execution_count": 250,
   "id": "5bba92fa",
   "metadata": {},
   "outputs": [
    {
     "data": {
      "text/plain": [
       "tensor([[[[0.0000, 0.0000, 0.0012, 0.0024, 0.0000],\n",
       "          [0.0000, 0.0000, 0.0000, 0.0000, 0.0000],\n",
       "          [0.0000, 0.0000, 0.0246, 0.0000, 0.0000],\n",
       "          [0.0000, 0.0000, 0.0369, 0.0303, 0.0000],\n",
       "          [0.0000, 0.0000, 0.0000, 0.0000, 0.0000]],\n",
       "\n",
       "         [[0.0000, 0.0000, 0.0000, 0.0752, 0.1039],\n",
       "          [0.0000, 0.1030, 0.1474, 0.1624, 0.1317],\n",
       "          [0.0000, 0.0000, 0.1329, 0.2307, 0.0000],\n",
       "          [0.0000, 0.0000, 0.0196, 0.1264, 0.1706],\n",
       "          [0.0000, 0.0318, 0.1310, 0.1242, 0.0986]],\n",
       "\n",
       "         [[0.1091, 0.0484, 0.0000, 0.0000, 0.1212],\n",
       "          [0.1188, 0.1861, 0.0491, 0.1217, 0.1554],\n",
       "          [0.1056, 0.1501, 0.1396, 0.0105, 0.1056],\n",
       "          [0.1113, 0.1043, 0.1955, 0.0000, 0.1172],\n",
       "          [0.0826, 0.0000, 0.1001, 0.1321, 0.1533]],\n",
       "\n",
       "         [[0.0000, 0.0000, 0.0000, 0.0000, 0.0000],\n",
       "          [0.0000, 0.0711, 0.0000, 0.0000, 0.0000],\n",
       "          [0.0000, 0.0000, 0.0000, 0.0000, 0.0000],\n",
       "          [0.0000, 0.0000, 0.0217, 0.0000, 0.0000],\n",
       "          [0.0000, 0.0000, 0.0000, 0.0000, 0.0000]],\n",
       "\n",
       "         [[0.0000, 0.0000, 0.0000, 0.0066, 0.0240],\n",
       "          [0.0255, 0.0328, 0.1124, 0.0260, 0.0000],\n",
       "          [0.0000, 0.0017, 0.0055, 0.0000, 0.0000],\n",
       "          [0.0000, 0.0000, 0.0000, 0.0200, 0.0000],\n",
       "          [0.0000, 0.0000, 0.0583, 0.0192, 0.0000]],\n",
       "\n",
       "         [[0.0552, 0.2490, 0.3549, 0.4184, 0.3249],\n",
       "          [0.0575, 0.1482, 0.2556, 0.2050, 0.1146],\n",
       "          [0.0591, 0.0389, 0.1434, 0.3270, 0.2367],\n",
       "          [0.0591, 0.0575, 0.1334, 0.2960, 0.3094],\n",
       "          [0.1586, 0.3040, 0.3096, 0.1756, 0.1619]],\n",
       "\n",
       "         [[0.0000, 0.0000, 0.0000, 0.0000, 0.0000],\n",
       "          [0.0000, 0.0435, 0.0000, 0.0000, 0.0000],\n",
       "          [0.0000, 0.0000, 0.0239, 0.0000, 0.0000],\n",
       "          [0.0000, 0.0000, 0.0000, 0.0000, 0.0000],\n",
       "          [0.0000, 0.0000, 0.0000, 0.0000, 0.0000]],\n",
       "\n",
       "         [[0.0117, 0.0000, 0.0000, 0.0439, 0.1702],\n",
       "          [0.1423, 0.2025, 0.0808, 0.1181, 0.0000],\n",
       "          [0.0025, 0.0912, 0.1578, 0.0093, 0.0000],\n",
       "          [0.0000, 0.0290, 0.0405, 0.0000, 0.0107],\n",
       "          [0.0023, 0.0000, 0.0518, 0.0760, 0.0128]],\n",
       "\n",
       "         [[0.0146, 0.1072, 0.1013, 0.0731, 0.0590],\n",
       "          [0.0000, 0.0135, 0.0652, 0.0000, 0.0000],\n",
       "          [0.0000, 0.0000, 0.0998, 0.0000, 0.0000],\n",
       "          [0.0000, 0.0169, 0.0828, 0.1436, 0.0000],\n",
       "          [0.1191, 0.1202, 0.0356, 0.0000, 0.0000]],\n",
       "\n",
       "         [[0.0297, 0.0000, 0.0509, 0.0368, 0.0556],\n",
       "          [0.1135, 0.0129, 0.0000, 0.0335, 0.0195],\n",
       "          [0.0511, 0.0768, 0.0000, 0.0000, 0.0200],\n",
       "          [0.0200, 0.0373, 0.0754, 0.0000, 0.0511],\n",
       "          [0.0429, 0.0757, 0.0807, 0.0000, 0.0415]],\n",
       "\n",
       "         [[0.0220, 0.0504, 0.0416, 0.0461, 0.0524],\n",
       "          [0.0240, 0.0474, 0.0265, 0.0294, 0.0151],\n",
       "          [0.0229, 0.0775, 0.1337, 0.0629, 0.0658],\n",
       "          [0.0234, 0.0263, 0.0085, 0.1123, 0.0395],\n",
       "          [0.0000, 0.0319, 0.0739, 0.0769, 0.0013]],\n",
       "\n",
       "         [[0.0215, 0.0000, 0.0000, 0.0000, 0.0000],\n",
       "          [0.0121, 0.0000, 0.1531, 0.0697, 0.1301],\n",
       "          [0.0026, 0.0038, 0.0938, 0.0073, 0.0017],\n",
       "          [0.0017, 0.0031, 0.0000, 0.0191, 0.1011],\n",
       "          [0.0000, 0.0000, 0.0000, 0.1223, 0.0990]],\n",
       "\n",
       "         [[0.0000, 0.0000, 0.0000, 0.0000, 0.0000],\n",
       "          [0.0000, 0.0000, 0.0393, 0.0545, 0.0000],\n",
       "          [0.0000, 0.0000, 0.0000, 0.0000, 0.0000],\n",
       "          [0.0000, 0.0000, 0.0000, 0.0115, 0.0633],\n",
       "          [0.0000, 0.0000, 0.0349, 0.0331, 0.0000]],\n",
       "\n",
       "         [[0.0000, 0.0331, 0.0722, 0.0603, 0.0404],\n",
       "          [0.0000, 0.0000, 0.0648, 0.0141, 0.0702],\n",
       "          [0.0000, 0.0000, 0.0039, 0.0000, 0.0000],\n",
       "          [0.0000, 0.0000, 0.0385, 0.0926, 0.0054],\n",
       "          [0.0099, 0.0407, 0.0133, 0.0616, 0.0141]],\n",
       "\n",
       "         [[0.0000, 0.0727, 0.0480, 0.0819, 0.0990],\n",
       "          [0.0000, 0.2295, 0.2592, 0.2004, 0.0960],\n",
       "          [0.0000, 0.0000, 0.1242, 0.0689, 0.0000],\n",
       "          [0.0000, 0.0357, 0.0776, 0.1411, 0.0516],\n",
       "          [0.0462, 0.0619, 0.1065, 0.0864, 0.0522]],\n",
       "\n",
       "         [[0.0266, 0.0378, 0.0746, 0.0619, 0.1099],\n",
       "          [0.0813, 0.0541, 0.0000, 0.0000, 0.0241],\n",
       "          [0.0219, 0.0252, 0.0311, 0.0149, 0.0219],\n",
       "          [0.0219, 0.0217, 0.0000, 0.0269, 0.0000],\n",
       "          [0.0671, 0.0889, 0.0564, 0.0000, 0.0113]]]],\n",
       "       grad_fn=<MaxPool2DWithIndicesBackward0>)"
      ]
     },
     "execution_count": 250,
     "metadata": {},
     "output_type": "execute_result"
    }
   ],
   "source": [
    "x"
   ]
  },
  {
   "cell_type": "code",
   "execution_count": 251,
   "id": "61615b5c",
   "metadata": {},
   "outputs": [],
   "source": [
    "class ConvolutionNetwork(nn.Module):\n",
    "    def __init__(self):\n",
    "        super().__init__()\n",
    "        self.conv1 = nn.Conv2d(1,6,3,1)\n",
    "        self.conv2 = nn.Conv2d(6,16,3,1)\n",
    "        self.fc1 = nn.Linear(5*5*16, 120)\n",
    "        self.fc2 = nn.Linear(120, 84)\n",
    "        self.fc3 = nn.Linear(84, 10)\n",
    "    def forward(self, x):\n",
    "        x = F.relu(self.conv1(x))\n",
    "        x = F.max_pool2d(x,2,2)\n",
    "        x = F.relu(self.conv2(x))\n",
    "        x = F.max_pool2d(x,2,2)\n",
    "        x = x.view(-1, 16 * 5 * 5)\n",
    "        x = F.relu(self.fc1(x))\n",
    "        x = F.relu(self.fc2(x))\n",
    "        x = F.log_softmax(self.fc3(x), dim = 1)\n",
    "        return x\n",
    "\n"
   ]
  },
  {
   "cell_type": "code",
   "execution_count": 252,
   "id": "c05b144a",
   "metadata": {},
   "outputs": [
    {
     "data": {
      "text/plain": [
       "ConvolutionNetwork(\n",
       "  (conv1): Conv2d(1, 6, kernel_size=(3, 3), stride=(1, 1))\n",
       "  (conv2): Conv2d(6, 16, kernel_size=(3, 3), stride=(1, 1))\n",
       "  (fc1): Linear(in_features=400, out_features=120, bias=True)\n",
       "  (fc2): Linear(in_features=120, out_features=84, bias=True)\n",
       "  (fc3): Linear(in_features=84, out_features=10, bias=True)\n",
       ")"
      ]
     },
     "execution_count": 252,
     "metadata": {},
     "output_type": "execute_result"
    }
   ],
   "source": [
    "torch.manual_seed(41)\n",
    "model = ConvolutionNetwork()\n",
    "model "
   ]
  },
  {
   "cell_type": "code",
   "execution_count": 253,
   "id": "d8e9be60",
   "metadata": {},
   "outputs": [],
   "source": [
    "criterion = nn.CrossEntropyLoss()\n",
    "optimizer = torch.optim.Adam(model.parameters(), lr = 0.001)"
   ]
  },
  {
   "cell_type": "code",
   "execution_count": 254,
   "id": "6d379408",
   "metadata": {},
   "outputs": [
    {
     "name": "stdout",
     "output_type": "stream",
     "text": [
      "Epoch: 0, Batch: 600, Loss: 0.1623610556125641\n",
      "Epoch: 0, Batch: 1200, Loss: 0.16145507991313934\n",
      "Epoch: 0, Batch: 1800, Loss: 0.5041674375534058\n",
      "Epoch: 0, Batch: 2400, Loss: 0.13252843916416168\n",
      "Epoch: 0, Batch: 3000, Loss: 0.00878168549388647\n",
      "Epoch: 0, Batch: 3600, Loss: 0.32324641942977905\n",
      "Epoch: 0, Batch: 4200, Loss: 0.003371942788362503\n",
      "Epoch: 0, Batch: 4800, Loss: 0.0016954930033534765\n",
      "Epoch: 0, Batch: 5400, Loss: 0.08084886521100998\n",
      "Epoch: 0, Batch: 6000, Loss: 0.0004548938886728138\n",
      "Epoch: 1, Batch: 600, Loss: 0.0020878887735307217\n",
      "Epoch: 1, Batch: 1200, Loss: 0.014557531103491783\n",
      "Epoch: 1, Batch: 1800, Loss: 0.050593696534633636\n",
      "Epoch: 1, Batch: 2400, Loss: 0.027636203914880753\n",
      "Epoch: 1, Batch: 3000, Loss: 0.0006187607650645077\n",
      "Epoch: 1, Batch: 3600, Loss: 0.004728333558887243\n",
      "Epoch: 1, Batch: 4200, Loss: 0.3600306212902069\n",
      "Epoch: 1, Batch: 4800, Loss: 0.019257554784417152\n",
      "Epoch: 1, Batch: 5400, Loss: 0.00976379495114088\n",
      "Epoch: 1, Batch: 6000, Loss: 0.000219882043893449\n",
      "Epoch: 2, Batch: 600, Loss: 0.039604462683200836\n",
      "Epoch: 2, Batch: 1200, Loss: 0.001962393755093217\n",
      "Epoch: 2, Batch: 1800, Loss: 0.00025936690508387983\n",
      "Epoch: 2, Batch: 2400, Loss: 0.0049134609289467335\n",
      "Epoch: 2, Batch: 3000, Loss: 8.15832827356644e-05\n",
      "Epoch: 2, Batch: 3600, Loss: 0.0017964858561754227\n",
      "Epoch: 2, Batch: 4200, Loss: 7.774017285555601e-05\n",
      "Epoch: 2, Batch: 4800, Loss: 0.0010569797595962882\n",
      "Epoch: 2, Batch: 5400, Loss: 0.00015629295376129448\n",
      "Epoch: 2, Batch: 6000, Loss: 0.000823355745524168\n",
      "Epoch: 3, Batch: 600, Loss: 0.2224186658859253\n",
      "Epoch: 3, Batch: 1200, Loss: 0.0012186976382508874\n",
      "Epoch: 3, Batch: 1800, Loss: 0.0009279914083890617\n",
      "Epoch: 3, Batch: 2400, Loss: 0.011914612725377083\n",
      "Epoch: 3, Batch: 3000, Loss: 0.001675926148891449\n",
      "Epoch: 3, Batch: 3600, Loss: 0.0010906255338340998\n",
      "Epoch: 3, Batch: 4200, Loss: 0.0011237494181841612\n",
      "Epoch: 3, Batch: 4800, Loss: 0.0010370000964030623\n",
      "Epoch: 3, Batch: 5400, Loss: 0.008081653155386448\n",
      "Epoch: 3, Batch: 6000, Loss: 0.1601278930902481\n",
      "Epoch: 4, Batch: 600, Loss: 0.039058223366737366\n",
      "Epoch: 4, Batch: 1200, Loss: 0.0002890279865823686\n",
      "Epoch: 4, Batch: 1800, Loss: 3.1469731766264886e-05\n",
      "Epoch: 4, Batch: 2400, Loss: 0.0003457941929809749\n",
      "Epoch: 4, Batch: 3000, Loss: 0.02954956889152527\n",
      "Epoch: 4, Batch: 3600, Loss: 0.0005782037042081356\n",
      "Epoch: 4, Batch: 4200, Loss: 0.002272008452564478\n",
      "Epoch: 4, Batch: 4800, Loss: 0.0006834144005551934\n",
      "Epoch: 4, Batch: 5400, Loss: 0.003473472548648715\n",
      "Epoch: 4, Batch: 6000, Loss: 0.00027911964571103454\n",
      "118.21005153656006\n"
     ]
    }
   ],
   "source": [
    "import time\n",
    "start_time = time.time()\n",
    "\n",
    "\n",
    "\n",
    "\n",
    "epochs = 5\n",
    "train_losses = []\n",
    "test_losses = []\n",
    "train_correct = []\n",
    "test_correct = []\n",
    "\n",
    "\n",
    "for i in range(epochs):\n",
    "    trn_correct = 0\n",
    "    tst_correct = 0\n",
    "    for b, (X_train, y_train) in enumerate(train_loader):\n",
    "        b+=1\n",
    "        y_pred = model(X_train)\n",
    "        loss = criterion(y_pred, y_train)\n",
    "        predicted = torch.max(y_pred.data, 1)[1]\n",
    "        batch_corr = (predicted==y_train).sum()\n",
    "        trn_correct += batch_corr\n",
    "\n",
    "        optimizer.zero_grad()\n",
    "        loss.backward()\n",
    "        optimizer.step()\n",
    "\n",
    "        if b%600==0:\n",
    "            print(f'Epoch: {i}, Batch: {b}, Loss: {loss.item()}')\n",
    "    train_losses.append(loss)\n",
    "    train_correct.append(trn_correct)\n",
    "\n",
    "\n",
    "\n",
    "with torch.no_grad():\n",
    "    for b, (X_test, y_test) in enumerate(test_loader):\n",
    "        y_val = model(X_test)\n",
    "        predicted = torch.max(y_val.data, 1)[1]\n",
    "        tst_correct += (predicted == y_test).sum()\n",
    "    loss = criterion(y_val, y_test)\n",
    "    test_losses.append(loss)\n",
    "    test_correct.append(tst_correct)\n",
    "    \n",
    "\n",
    "\n",
    "\n",
    "\n",
    "current_time = time.time()\n",
    "total_time = current_time - start_time\n",
    "print(total_time)"
   ]
  },
  {
   "cell_type": "code",
   "execution_count": 255,
   "id": "d6283665",
   "metadata": {},
   "outputs": [
    {
     "data": {
      "text/plain": [
       "<matplotlib.legend.Legend at 0x1b734faac50>"
      ]
     },
     "execution_count": 255,
     "metadata": {},
     "output_type": "execute_result"
    },
    {
     "data": {
      "image/png": "[encoded data removed]",
      "text/plain": [
       "<Figure size 640x480 with 1 Axes>"
      ]
     },
     "metadata": {},
     "output_type": "display_data"
    }
   ],
   "source": [
    "train_losses = [tl.item() for tl in train_losses]\n",
    "plt.plot(train_losses, label = \"Training Losses\")\n",
    "plt.plot(test_losses, label = \"Test Losses\")\n",
    "plt.title(\"Loss at Epoch\")\n",
    "plt.legend()"
   ]
  },
  {
   "cell_type": "code",
   "execution_count": null,
   "id": "89eb65ba",
   "metadata": {},
   "outputs": [],
   "source": []
  }
 ],
 "metadata": {
  "kernelspec": {
   "display_name": ".venv",
   "language": "python",
   "name": "python3"
  },
  "language_info": {
   "codemirror_mode": {
    "name": "ipython",
    "version": 3
   },
   "file_extension": ".py",
   "mimetype": "text/x-python",
   "name": "python",
   "nbconvert_exporter": "python",
   "pygments_lexer": "ipython3",
   "version": "3.10.11"
  }
 },
 "nbformat": 4,
 "nbformat_minor": 5
}
